{
 "cells": [
  {
   "cell_type": "code",
   "execution_count": 1,
   "metadata": {},
   "outputs": [
    {
     "name": "stdout",
     "output_type": "stream",
     "text": [
      "Données préparées et sauvegardées dans 'processed_reviews.json'\n"
     ]
    }
   ],
   "source": [
    "import spacy\n",
    "import json\n",
    "\n",
    "# Charger le modèle SpaCy\n",
    "nlp = spacy.load(\"en_core_web_sm\")\n",
    "\n",
    "# Charger les données\n",
    "def load_jsonl(file_path):\n",
    "    with open(file_path, 'r', encoding='utf-8') as file:\n",
    "        return [json.loads(line) for line in file]\n",
    "\n",
    "# Charger les avis\n",
    "reviews = load_jsonl(\"reviews.jsonl\")\n",
    "documents = [review[\"title\"] + \" \" + review[\"text\"] for review in reviews]\n",
    "\n",
    "# Prétraitement\n",
    "processed_reviews = []\n",
    "for doc in nlp.pipe(documents, disable=[\"ner\", \"parser\"]):\n",
    "    tokens = [token.lemma_ for token in doc \n",
    "              if not token.is_stop \n",
    "              and not token.is_punct \n",
    "              and not token.is_digit \n",
    "              and len(token) > 1]\n",
    "    processed_reviews.append(tokens)\n",
    "\n",
    "# Sauvegarde des données nettoyées\n",
    "with open(\"processed_reviews.json\", \"w\", encoding=\"utf-8\") as file:\n",
    "    json.dump(processed_reviews, file, ensure_ascii=False, indent=2)\n",
    "\n",
    "print(\"Données préparées et sauvegardées dans 'processed_reviews.json'\")\n"
   ]
  }
 ],
 "metadata": {
  "kernelspec": {
   "display_name": "Python 3",
   "language": "python",
   "name": "python3"
  },
  "language_info": {
   "codemirror_mode": {
    "name": "ipython",
    "version": 3
   },
   "file_extension": ".py",
   "mimetype": "text/x-python",
   "name": "python",
   "nbconvert_exporter": "python",
   "pygments_lexer": "ipython3",
   "version": "3.12.2"
  }
 },
 "nbformat": 4,
 "nbformat_minor": 2
}
